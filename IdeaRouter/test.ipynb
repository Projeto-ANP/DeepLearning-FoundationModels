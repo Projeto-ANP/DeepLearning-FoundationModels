{
 "cells": [
  {
   "cell_type": "code",
   "execution_count": 5,
   "metadata": {},
   "outputs": [],
   "source": [
    "import torch\n",
    "import torch.nn as nn\n",
    "import torch.nn.functional as F\n",
    "import numpy as np"
   ]
  },
  {
   "cell_type": "code",
   "execution_count": 6,
   "metadata": {},
   "outputs": [],
   "source": [
    "# Simulação\n",
    "series = torch.tensor([22.5, 23.1, 21.8, 24.0, 22.9], dtype=torch.float32)"
   ]
  },
  {
   "cell_type": "code",
   "execution_count": 12,
   "metadata": {},
   "outputs": [
    {
     "data": {
      "text/plain": [
       "tensor([[22.5000],\n",
       "        [23.1000],\n",
       "        [21.8000],\n",
       "        [24.0000],\n",
       "        [22.9000]])"
      ]
     },
     "execution_count": 12,
     "metadata": {},
     "output_type": "execute_result"
    }
   ],
   "source": [
    "# 1. Tokenização Point-Wise (cada ponto da série é um token)\n",
    "tokens = series.unsqueeze(1) \n",
    "\n",
    "tokens"
   ]
  },
  {
   "cell_type": "code",
   "execution_count": 8,
   "metadata": {},
   "outputs": [
    {
     "data": {
      "text/plain": [
       "tensor([[0.9838],\n",
       "        [1.0100],\n",
       "        [0.9532],\n",
       "        [1.0493],\n",
       "        [1.0012]])"
      ]
     },
     "execution_count": 8,
     "metadata": {},
     "output_type": "execute_result"
    }
   ],
   "source": [
    "# 2. Normalização RMS\n",
    "def rms_normalization(x):\n",
    "    rms = torch.sqrt(torch.mean(x ** 2))\n",
    "    return x / rms\n",
    "\n",
    "normalized_tokens = rms_normalization(tokens)\n",
    "\n",
    "normalized_tokens"
   ]
  }
 ],
 "metadata": {
  "kernelspec": {
   "display_name": "rapids-24.06",
   "language": "python",
   "name": "python3"
  },
  "language_info": {
   "codemirror_mode": {
    "name": "ipython",
    "version": 3
   },
   "file_extension": ".py",
   "mimetype": "text/x-python",
   "name": "python",
   "nbconvert_exporter": "python",
   "pygments_lexer": "ipython3",
   "version": "3.11.9"
  }
 },
 "nbformat": 4,
 "nbformat_minor": 2
}
