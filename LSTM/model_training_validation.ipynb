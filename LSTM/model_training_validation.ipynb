{
 "cells": [
  {
   "cell_type": "code",
   "execution_count": 4,
   "metadata": {},
   "outputs": [
    {
     "name": "stdout",
     "output_type": "stream",
     "text": [
      "Subpastas que não contêm a pasta 'trial_099':\n",
      "lstm_pe_glp\n"
     ]
    }
   ],
   "source": [
    "import os\n",
    "\n",
    "# Caminho da pasta principal\n",
    "main_folder = 'models_LSTM_direct_dense12_12'\n",
    "\n",
    "# Lista para armazenar as subpastas que não contêm a pasta trial_099\n",
    "missing_trial_099 = []\n",
    "\n",
    "# Percorre todas as subpastas dentro da pasta principal\n",
    "for subfolder in os.listdir(main_folder):\n",
    "    subfolder_path = os.path.join(main_folder, subfolder)\n",
    "    \n",
    "    # Verifica se é uma pasta\n",
    "    if os.path.isdir(subfolder_path):\n",
    "        # Verifica se a subpasta contém a pasta trial_099\n",
    "        trial_099_path = os.path.join(subfolder_path, 'trial_099')\n",
    "        if not os.path.exists(trial_099_path):\n",
    "            missing_trial_099.append(subfolder)\n",
    "\n",
    "# Exibe as subpastas que não contêm a pasta trial_099\n",
    "if missing_trial_099:\n",
    "    print(\"Subpastas que não contêm a pasta 'trial_099':\")\n",
    "    for folder in missing_trial_099:\n",
    "        print(folder)\n",
    "else:\n",
    "    print(\"Todas as subpastas contêm a pasta 'trial_099'.\")"
   ]
  }
 ],
 "metadata": {
  "kernelspec": {
   "display_name": "rapids-24.06",
   "language": "python",
   "name": "python3"
  },
  "language_info": {
   "codemirror_mode": {
    "name": "ipython",
    "version": 3
   },
   "file_extension": ".py",
   "mimetype": "text/x-python",
   "name": "python",
   "nbconvert_exporter": "python",
   "pygments_lexer": "ipython3",
   "version": "3.11.9"
  }
 },
 "nbformat": 4,
 "nbformat_minor": 2
}
