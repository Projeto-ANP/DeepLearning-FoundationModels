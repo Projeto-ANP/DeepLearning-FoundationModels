{
 "cells": [
  {
   "cell_type": "markdown",
   "metadata": {},
   "source": [
    "# Code to prepare the dataset for fine-tuning in jsonl format"
   ]
  },
  {
   "cell_type": "code",
   "execution_count": 1,
   "metadata": {},
   "outputs": [],
   "source": [
    "import pandas as pd\n",
    "import json\n",
    "from sklearn.preprocessing import MinMaxScaler\n",
    "import numpy as np"
   ]
  },
  {
   "cell_type": "code",
   "execution_count": 2,
   "metadata": {},
   "outputs": [],
   "source": [
    "def rolling_window(series, window):\n",
    "    \"\"\"\n",
    "    Generate rolling window data for time series analysis.\n",
    "\n",
    "    Parameters:\n",
    "    - series: array-like, time series data\n",
    "    - window: int, size of the rolling window\n",
    "\n",
    "    Returns:\n",
    "    - df: pandas DataFrame, containing the rolling window data\n",
    "    - scaler: MinMaxScaler object, used for normalization\n",
    "    \"\"\"\n",
    "    data = []\n",
    "\n",
    "    for i in range(len(series) - window):\n",
    "        example = np.array(series[i:i + window])\n",
    "        data.append(example)\n",
    "\n",
    "    df = pd.DataFrame(data)\n",
    "    df = df.dropna()\n",
    "    return df"
   ]
  },
  {
   "cell_type": "code",
   "execution_count": 3,
   "metadata": {},
   "outputs": [
    {
     "name": "stdout",
     "output_type": "stream",
     "text": [
      "Filtered data has been saved to dataset_test_name.jsonl\n"
     ]
    }
   ],
   "source": [
    "# Load the combined dataset\n",
    "all_data = pd.read_csv('../database/combined_data.csv', sep=\";\")\n",
    "\n",
    "# Initialize a dictionary to store products for each state\n",
    "state_product_dict = {}\n",
    "\n",
    "# Iterate over unique states\n",
    "for state in all_data['state'].unique():\n",
    "    # Filter products corresponding to this state\n",
    "    products = all_data[all_data['state'] == state]['product'].unique()\n",
    "    # Add to the dictionary\n",
    "    state_product_dict[state] = list(products)\n",
    "\n",
    "# Define the output filename\n",
    "output_file = 'dataset_test_name.jsonl'\n",
    "\n",
    "# Open the output file in write mode\n",
    "with open(output_file, 'w') as file:\n",
    "    # Loop through each state and its products\n",
    "    for state, products in state_product_dict.items():\n",
    "        for product in products:\n",
    "            # Filter data for the current state and product\n",
    "            data_filtered = all_data[(all_data['state'] == state) & (all_data['product'] == product)]\n",
    "\n",
    "            sequence = data_filtered['m3'][:-12].tolist()\n",
    "\n",
    "            # Create a key for the JSON entry combining product and state\n",
    "            json_line = {f'{state}_{product}': sequence}\n",
    "\n",
    "            # Write the formatted JSON line to the .jsonl file\n",
    "            file.write(json.dumps(json_line) + '\\n')\n",
    "    \n",
    "    # for state, products in state_product_dict.items():\n",
    "    #     for product in products:\n",
    "    #         # Filtrar os dados para o estado e produto atuais\n",
    "    #         data_filtered = all_data[(all_data['state'] == state) & (all_data['product'] == product)]\n",
    "            \n",
    "    #         data = rolling_window(data_filtered['m3'][:-12], 12)\n",
    "    #         print(data)\n",
    "\n",
    "    #         # Selecionar a sequência de interesse\n",
    "    #         sequence = data.values  # Certifica-se de trabalhar com um array NumPy\n",
    "\n",
    "    #         print(sequence)\n",
    "            \n",
    "    #         scaler = MinMaxScaler(feature_range=(-1, 1))\n",
    "    #         sequence_scaled = scaler.fit_transform(sequence.reshape(-1, 1)).flatten()  # Transforma e achata para 1D\n",
    "    #         print(sequence_scaled)\n",
    "            \n",
    "    #         # Criar a entrada JSON combinando produto e estado\n",
    "    #         json_line = {\"sequence\": sequence_scaled.tolist()}  # Converte para lista para JSON\n",
    "            \n",
    "    #         # Escrever a linha formatada no arquivo .jsonl\n",
    "    #         file.write(json.dumps(json_line) + '\\n')\n",
    "    \n",
    "    # for state, products in state_product_dict.items():\n",
    "    #     for product in products:\n",
    "    #         # Filtrar os dados para o estado e produto atuais\n",
    "    #         data_filtered = all_data[(all_data['state'] == state) & (all_data['product'] == product)]\n",
    "            \n",
    "    #         # Extrair a coluna de interesse\n",
    "    #         m3_values = data_filtered['m3'][:-12].values\n",
    "            \n",
    "    #         # Escalar os dados do conjunto inteiro\n",
    "    #         scaler = MinMaxScaler(feature_range=(-1, 1))\n",
    "    #         m3_scaled = scaler.fit_transform(m3_values.reshape(-1, 1)).flatten()\n",
    "            \n",
    "    #         # Criar janelas deslizantes (tamanho 12) a partir dos dados escalonados\n",
    "    #         data = rolling_window(m3_scaled, 12)\n",
    "            \n",
    "    #         # Salvar cada sequência individualmente no JSONL\n",
    "    #         for _, row in data.iterrows():\n",
    "    #             print(row.values.tolist())\n",
    "    #             json_line = {\"sequence\": row.values.tolist()}  # Converte a sequência para lista\n",
    "    #             file.write(json.dumps(json_line) + '\\n')\n",
    "    \n",
    "\n",
    "print(f\"Filtered data has been saved to {output_file}\")\n"
   ]
  }
 ],
 "metadata": {
  "kernelspec": {
   "display_name": "rapids-24.06",
   "language": "python",
   "name": "python3"
  },
  "language_info": {
   "codemirror_mode": {
    "name": "ipython",
    "version": 3
   },
   "file_extension": ".py",
   "mimetype": "text/x-python",
   "name": "python",
   "nbconvert_exporter": "python",
   "pygments_lexer": "ipython3",
   "version": "3.11.9"
  }
 },
 "nbformat": 4,
 "nbformat_minor": 2
}
