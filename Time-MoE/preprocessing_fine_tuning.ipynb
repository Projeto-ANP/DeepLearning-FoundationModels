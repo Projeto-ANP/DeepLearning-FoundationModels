{
 "cells": [
  {
   "cell_type": "markdown",
   "metadata": {},
   "source": [
    "# Code to prepare the dataset for fine-tuning in jsonl format"
   ]
  },
  {
   "cell_type": "code",
   "execution_count": 1,
   "metadata": {},
   "outputs": [],
   "source": [
    "import pandas as pd\n",
    "import json\n",
    "from sklearn.preprocessing import MinMaxScaler"
   ]
  },
  {
   "cell_type": "code",
   "execution_count": null,
   "metadata": {},
   "outputs": [
    {
     "name": "stdout",
     "output_type": "stream",
     "text": [
      "Filtered data has been saved to dataset_petroleum_derivatives_normalizados.jsonl\n"
     ]
    }
   ],
   "source": [
    "# Load the combined dataset\n",
    "all_data = pd.read_csv('../database/combined_data.csv', sep=\";\")\n",
    "\n",
    "# Initialize a dictionary to store products for each state\n",
    "state_product_dict = {}\n",
    "\n",
    "# Iterate over unique states\n",
    "for state in all_data['state'].unique():\n",
    "    # Filter products corresponding to this state\n",
    "    products = all_data[all_data['state'] == state]['product'].unique()\n",
    "    # Add to the dictionary\n",
    "    state_product_dict[state] = list(products)\n",
    "\n",
    "# Define the output filename\n",
    "output_file = 'dataset_petroleum_derivatives_normalizados.jsonl'\n",
    "\n",
    "# Open the output file in write mode\n",
    "with open(output_file, 'w') as file:\n",
    "    # # Loop through each state and its products\n",
    "    # for state, products in state_product_dict.items():\n",
    "    #     for product in products:\n",
    "    #         # Filter data for the current state and product\n",
    "    #         data_filtered = all_data[(all_data['state'] == state) & (all_data['product'] == product)]\n",
    "\n",
    "    #         sequence = data_filtered['m3'][:-12].tolist()\n",
    "\n",
    "    #         # Create a key for the JSON entry combining product and state\n",
    "    #         json_line = {\"sequence\": sequence}\n",
    "\n",
    "    #         # Write the formatted JSON line to the .jsonl file\n",
    "    #         file.write(json.dumps(json_line) + '\\n')\n",
    "    \n",
    "    for state, products in state_product_dict.items():\n",
    "        for product in products:\n",
    "            # Filtrar os dados para o estado e produto atuais\n",
    "            data_filtered = all_data[(all_data['state'] == state) & (all_data['product'] == product)]\n",
    "            \n",
    "            # Selecionar a sequência de interesse\n",
    "            sequence = data_filtered['m3'][:-12].values  # Certifica-se de trabalhar com um array NumPy\n",
    "            \n",
    "            scaler = MinMaxScaler(feature_range=(-1, 1))\n",
    "            sequence_scaled = scaler.fit_transform(sequence.reshape(-1, 1)).flatten()  # Transforma e achata para 1D\n",
    "            \n",
    "            # Criar a entrada JSON combinando produto e estado\n",
    "            json_line = {\"sequence\": sequence_scaled.tolist()}  # Converte para lista para JSON\n",
    "            \n",
    "            # Escrever a linha formatada no arquivo .jsonl\n",
    "            file.write(json.dumps(json_line) + '\\n')\n",
    "\n",
    "print(f\"Filtered data has been saved to {output_file}\")\n"
   ]
  }
 ],
 "metadata": {
  "kernelspec": {
   "display_name": "rapids-24.06",
   "language": "python",
   "name": "python3"
  },
  "language_info": {
   "codemirror_mode": {
    "name": "ipython",
    "version": 3
   },
   "file_extension": ".py",
   "mimetype": "text/x-python",
   "name": "python",
   "nbconvert_exporter": "python",
   "pygments_lexer": "ipython3",
   "version": "3.11.9"
  }
 },
 "nbformat": 4,
 "nbformat_minor": 2
}
