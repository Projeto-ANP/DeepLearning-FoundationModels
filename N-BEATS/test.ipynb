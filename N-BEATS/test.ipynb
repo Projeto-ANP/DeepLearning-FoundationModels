{
 "cells": [
  {
   "cell_type": "code",
   "execution_count": 1,
   "metadata": {},
   "outputs": [
    {
     "name": "stdout",
     "output_type": "stream",
     "text": [
      "Arquivos combinados com sucesso em: results_model_local/nbeats_results_combined_5_years.xlsx\n"
     ]
    }
   ],
   "source": [
    "import pandas as pd\n",
    "\n",
    "# Lista de arquivos a serem combinados\n",
    "file_paths = [\n",
    "    \"results_model_local/nbeats_results_5_years.xlsx\",\n",
    "    \"results_model_local/nbeats_results2_5_years.xlsx\",\n",
    "    \"results_model_local/nbeats_results3_5_years.xlsx\",\n",
    "    \"results_model_local/nbeats_results4_5_years.xlsx\",\n",
    "    \"results_model_local/nbeats_results5_5_years.xlsx\",\n",
    "]\n",
    "\n",
    "# Lista para armazenar os DataFrames\n",
    "dataframes = []\n",
    "\n",
    "# Ler e armazenar os dados de cada arquivo\n",
    "for file_path in file_paths:\n",
    "    df = pd.read_excel(file_path)  # Lê o arquivo Excel\n",
    "    dataframes.append(df)\n",
    "\n",
    "# Concatenar todos os DataFrames\n",
    "combined_df = pd.concat(dataframes, ignore_index=True)\n",
    "\n",
    "# Salvar o resultado combinado em um novo arquivo Excel\n",
    "output_path = \"results_model_local/nbeats_results_combined_5_years.xlsx\"\n",
    "combined_df.to_excel(output_path, index=False)\n",
    "\n",
    "print(f\"Arquivos combinados com sucesso em: {output_path}\")"
   ]
  }
 ],
 "metadata": {
  "kernelspec": {
   "display_name": "rapids-24.06",
   "language": "python",
   "name": "python3"
  },
  "language_info": {
   "codemirror_mode": {
    "name": "ipython",
    "version": 3
   },
   "file_extension": ".py",
   "mimetype": "text/x-python",
   "name": "python",
   "nbconvert_exporter": "python",
   "pygments_lexer": "ipython3",
   "version": "3.11.9"
  }
 },
 "nbformat": 4,
 "nbformat_minor": 2
}
